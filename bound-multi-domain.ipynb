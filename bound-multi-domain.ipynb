{
 "cells": [
  {
   "cell_type": "markdown",
   "id": "d4cc3507",
   "metadata": {},
   "source": [
    "# causal bounding across multiple domains\n",
    "---"
   ]
  },
  {
   "cell_type": "code",
   "execution_count": 1,
   "id": "316c653b",
   "metadata": {},
   "outputs": [],
   "source": [
    "import cvxpy as cp\n",
    "import numpy as np\n",
    "from itertools import product"
   ]
  },
  {
   "cell_type": "markdown",
   "id": "f59cf340",
   "metadata": {},
   "source": [
    "### configurations"
   ]
  },
  {
   "cell_type": "code",
   "execution_count": 2,
   "id": "ffd0887d",
   "metadata": {},
   "outputs": [],
   "source": [
    "I  = (0, 1)\n",
    "J  = (0, 1, 2, 3)\n",
    "X  = (0, 1)\n",
    "Y  = (0, 1)"
   ]
  },
  {
   "cell_type": "code",
   "execution_count": 3,
   "id": "62fe973a",
   "metadata": {},
   "outputs": [],
   "source": [
    "FLAG_SELECT_X  = False  # selection node on X?\n",
    "FLAG_OBSX_DIFF = False  # obs. marginal distribution of X differ across domains?\n",
    "FLAG_OBS_SAME  = False  # obs. joint distribution differ across domains? (overrides FLAG_OBSX_DIFF)"
   ]
  },
  {
   "cell_type": "markdown",
   "id": "4af6318f",
   "metadata": {},
   "source": [
    "### observational distribution"
   ]
  },
  {
   "cell_type": "code",
   "execution_count": 4,
   "id": "cf42ecd1",
   "metadata": {},
   "outputs": [],
   "source": [
    "# single domain\n",
    "OBS_DIST   = np.array([[0.4, 0.1],\n",
    "                       [0.1, 0.4]])\n",
    "\n",
    "# multiple domains\n",
    "OBS_DIST_t = np.array([[0.4, 0.1],\n",
    "                       [0.1, 0.4]])\n",
    "if FLAG_OBSX_DIFF:\n",
    "    OBS_DIST_s = np.array([[0.3, 0.1],\n",
    "                           [0.2, 0.4]])\n",
    "    src = 's+'\n",
    "else:\n",
    "    OBS_DIST_s = np.array([[0.3, 0.2],\n",
    "                           [0.1, 0.4]])\n",
    "    src = 's++'\n",
    "if FLAG_OBS_SAME:\n",
    "    OBS_DIST_s = OBS_DIST_t\n",
    "    src = 's'"
   ]
  },
  {
   "cell_type": "code",
   "execution_count": 5,
   "id": "01655292",
   "metadata": {},
   "outputs": [],
   "source": [
    "def P(x=None, y=None, dist=OBS_DIST):\n",
    "    for v in (x, y):\n",
    "        if v not in (None, 0, 1):\n",
    "            return 0.\n",
    "    x = x if x is not None else slice(None)\n",
    "    y = y if y is not None else slice(None)\n",
    "    return dist[x, y].sum()"
   ]
  },
  {
   "cell_type": "code",
   "execution_count": 6,
   "id": "266384b3",
   "metadata": {},
   "outputs": [
    {
     "name": "stdout",
     "output_type": "stream",
     "text": [
      "target domain: P(X=0) = 0.500, P(Y=0) = 0.500\n",
      "source domain: P(X=0) = 0.500, P(Y=0) = 0.400\n"
     ]
    }
   ],
   "source": [
    "print(f'target domain: P(X=0) = {P(x=0, dist=OBS_DIST_t):.3f}, P(Y=0) = {P(y=0, dist=OBS_DIST_t):.3f}')\n",
    "print(f'source domain: P(X=0) = {P(x=0, dist=OBS_DIST_s):.3f}, P(Y=0) = {P(y=0, dist=OBS_DIST_s):.3f}')"
   ]
  },
  {
   "cell_type": "markdown",
   "id": "cf2d0e99",
   "metadata": {},
   "source": [
    "### bounding within one domain"
   ]
  },
  {
   "cell_type": "code",
   "execution_count": 7,
   "id": "4b6ed32b",
   "metadata": {},
   "outputs": [],
   "source": [
    "q = list()\n",
    "for i in I:\n",
    "    qi = list()\n",
    "    for j in J:\n",
    "        qi.append(cp.Variable(name='q_{}{}'.format(i,j)))\n",
    "    q.append(qi)"
   ]
  },
  {
   "cell_type": "code",
   "execution_count": 8,
   "id": "a7044ed5",
   "metadata": {},
   "outputs": [],
   "source": [
    "# simplex constraints\n",
    "constraints = [q[i][j] >= 0 for i, j in product(I, J)]\n",
    "s = 0\n",
    "for i, j in product(I, J):\n",
    "    s += q[i][j]\n",
    "constraints += [s == 1]"
   ]
  },
  {
   "cell_type": "code",
   "execution_count": 9,
   "id": "557894ec",
   "metadata": {},
   "outputs": [],
   "source": [
    "# observational constraints\n",
    "constraints += [\n",
    "    q[0][0] + q[0][1] == OBS_DIST_t[0][0],\n",
    "    q[0][2] + q[0][3] == OBS_DIST_t[0][1],\n",
    "    q[1][0] + q[1][2] == OBS_DIST_t[1][0],\n",
    "    q[1][1] + q[1][3] == OBS_DIST_t[1][1],\n",
    "    ]"
   ]
  },
  {
   "cell_type": "code",
   "execution_count": 10,
   "id": "a5d91259",
   "metadata": {},
   "outputs": [],
   "source": [
    "objectives = [\n",
    "    [q[0][0] + q[1][0] + q[0][1] + q[1][1],\n",
    "     q[0][2] + q[1][2] + q[0][3] + q[1][3],],\n",
    "    [q[0][0] + q[1][0] + q[0][2] + q[1][2],\n",
    "     q[0][1] + q[1][1] + q[0][3] + q[1][3],]\n",
    "    ]"
   ]
  },
  {
   "cell_type": "code",
   "execution_count": 11,
   "id": "dc2319f4",
   "metadata": {},
   "outputs": [
    {
     "name": "stdout",
     "output_type": "stream",
     "text": [
      "0.400 <= P(Y=0|do(X=0)) <= 0.900\n",
      "0.100 <= P(Y=1|do(X=0)) <= 0.600\n",
      "0.100 <= P(Y=0|do(X=1)) <= 0.600\n",
      "0.400 <= P(Y=1|do(X=1)) <= 0.900\n"
     ]
    }
   ],
   "source": [
    "for x, y in product(X, Y):\n",
    "    mi = cp.Problem(cp.Minimize(objectives[x][y]), constraints).solve()\n",
    "    ma = cp.Problem(cp.Maximize(objectives[x][y]), constraints).solve()\n",
    "    print(f'{mi:.3f} <= P(Y={y}|do(X={x})) <= {ma:.3f}')"
   ]
  },
  {
   "cell_type": "markdown",
   "id": "31043986",
   "metadata": {},
   "source": [
    "### bounding across multiple domains"
   ]
  },
  {
   "cell_type": "code",
   "execution_count": 12,
   "id": "e63b8f8b",
   "metadata": {},
   "outputs": [],
   "source": [
    "q = list()\n",
    "for i in I:\n",
    "    qi = list()\n",
    "    for j in J:\n",
    "        qi.append(cp.Variable(name='q_{}{}'.format(i,j)))\n",
    "    q.append(qi)\n",
    "\n",
    "w = list()\n",
    "for i in I:\n",
    "    wi = list()\n",
    "    for j in J:\n",
    "        wi.append(cp.Variable(name='w_{}{}'.format(i,j)))\n",
    "    w.append(wi)"
   ]
  },
  {
   "cell_type": "code",
   "execution_count": 13,
   "id": "4a8e466a",
   "metadata": {},
   "outputs": [],
   "source": [
    "# simplex constraints\n",
    "\n",
    "constraints = list()\n",
    "\n",
    "constraints += [q[i][j] >= 0 for i, j in product(I, J)]\n",
    "s = 0\n",
    "for i, j in product(I, J):\n",
    "    s += q[i][j]\n",
    "constraints += [s == 1]\n",
    "\n",
    "constraints += [w[i][j] >= 0 for i, j in product(I, J)]\n",
    "s = 0\n",
    "for i, j in product(I, J):\n",
    "    s += w[i][j]\n",
    "constraints += [s == 1]"
   ]
  },
  {
   "cell_type": "code",
   "execution_count": 14,
   "id": "4204768e",
   "metadata": {},
   "outputs": [],
   "source": [
    "# observational constraints\n",
    "\n",
    "constraints += [\n",
    "    q[0][0] + q[0][1] == OBS_DIST_t[0][0],\n",
    "    q[0][2] + q[0][3] == OBS_DIST_t[0][1],\n",
    "    q[1][0] + q[1][2] == OBS_DIST_t[1][0],\n",
    "    q[1][1] + q[1][3] == OBS_DIST_t[1][1],\n",
    "    ]\n",
    "\n",
    "constraints += [\n",
    "    w[0][0] + w[0][1] == OBS_DIST_s[0][0],\n",
    "    w[0][2] + w[0][3] == OBS_DIST_s[0][1],\n",
    "    w[1][0] + w[1][2] == OBS_DIST_s[1][0],\n",
    "    w[1][1] + w[1][3] == OBS_DIST_s[1][1],\n",
    "    ]"
   ]
  },
  {
   "cell_type": "code",
   "execution_count": 15,
   "id": "a3159448",
   "metadata": {},
   "outputs": [],
   "source": [
    "# cross-domain constraints\n",
    "\n",
    "if FLAG_SELECT_X:\n",
    "    # selection node on X (f_X variant, f_Y invariant)\n",
    "    for j in J:\n",
    "        sq = 0\n",
    "        sw = 0\n",
    "        for i in I:\n",
    "            sq += q[i][j]\n",
    "            sw += w[i][j]\n",
    "        constraints += [sq == sw]\n",
    "else:\n",
    "    # selection node on Y (f_X invariant, f_Y variant)\n",
    "    for i in I:\n",
    "        sq = 0\n",
    "        sw = 0\n",
    "        for j in J:\n",
    "            sq += q[i][j]\n",
    "            sw += w[i][j]\n",
    "        constraints += [sq == sw]"
   ]
  },
  {
   "cell_type": "code",
   "execution_count": 16,
   "id": "fd4ebf3c",
   "metadata": {},
   "outputs": [],
   "source": [
    "objectives = [\n",
    "    [q[0][0] + q[1][0] + q[0][1] + q[1][1],\n",
    "     q[0][2] + q[1][2] + q[0][3] + q[1][3],],\n",
    "    [q[0][0] + q[1][0] + q[0][2] + q[1][2],\n",
    "     q[0][1] + q[1][1] + q[0][3] + q[1][3],]\n",
    "    ]"
   ]
  },
  {
   "cell_type": "code",
   "execution_count": 17,
   "id": "0cd55917",
   "metadata": {},
   "outputs": [
    {
     "name": "stdout",
     "output_type": "stream",
     "text": [
      "source domain: s++\n",
      "0.40 <= P(Y=0|do(X=0)) <= 0.90\n",
      "0.10 <= P(Y=1|do(X=0)) <= 0.60\n",
      "0.10 <= P(Y=0|do(X=1)) <= 0.60\n",
      "0.40 <= P(Y=1|do(X=1)) <= 0.90\n"
     ]
    }
   ],
   "source": [
    "print(f'source domain: {src}')\n",
    "for x, y in product(X, Y):\n",
    "    mi = cp.Problem(cp.Minimize(objectives[x][y]), constraints).solve()\n",
    "    ma = cp.Problem(cp.Maximize(objectives[x][y]), constraints).solve()\n",
    "    print(f'{mi:.2f} <= P(Y={y}|do(X={x})) <= {ma:.2f}')"
   ]
  },
  {
   "cell_type": "code",
   "execution_count": null,
   "id": "27da6d1b",
   "metadata": {},
   "outputs": [],
   "source": []
  }
 ],
 "metadata": {
  "kernelspec": {
   "display_name": "Python 3 (ipykernel)",
   "language": "python",
   "name": "python3"
  },
  "language_info": {
   "codemirror_mode": {
    "name": "ipython",
    "version": 3
   },
   "file_extension": ".py",
   "mimetype": "text/x-python",
   "name": "python",
   "nbconvert_exporter": "python",
   "pygments_lexer": "ipython3",
   "version": "3.9.7"
  }
 },
 "nbformat": 4,
 "nbformat_minor": 5
}
